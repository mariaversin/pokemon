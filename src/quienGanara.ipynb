{
 "metadata": {
  "language_info": {
   "codemirror_mode": {
    "name": "ipython",
    "version": 3
   },
   "file_extension": ".py",
   "mimetype": "text/x-python",
   "name": "python",
   "nbconvert_exporter": "python",
   "pygments_lexer": "ipython3",
   "version": "3.8.5-final"
  },
  "orig_nbformat": 2,
  "kernelspec": {
   "name": "python3",
   "display_name": "Python 3",
   "language": "python"
  }
 },
 "nbformat": 4,
 "nbformat_minor": 2,
 "cells": [
  {
   "cell_type": "code",
   "execution_count": 1,
   "metadata": {},
   "outputs": [],
   "source": [
    "import csv\n",
    "import joblib\n",
    "\n",
    "def busquedaInformacionPokemon(numPokemon,Pokedex):\n",
    "    infosPokemon = []\n",
    "    for pokemon in Pokedex:\n",
    "        if (int(pokemon[0])==numPokemon):\n",
    "            infosPokemon = [pokemon[0],pokemon[1],pokemon[4],pokemon[5],pokemon[6],pokemon[7],pokemon[8],pokemon[9],pokemon[10]]\n",
    "            break\n",
    "    return infosPokemon\n"
   ]
  },
  {
   "cell_type": "code",
   "execution_count": 10,
   "metadata": {},
   "outputs": [],
   "source": [
    "\n",
    "def prediccion (numeroPokemon1, numeroPokemon2,Pokedex):\n",
    "    pokemon1 = busquedaInformacionPokemon(numeroPokemon1, Pokedex)\n",
    "\n",
    "    print(pokemon1)\n",
    "    print(\"********************************************************\")\n",
    "    pokemon2 = busquedaInformacionPokemon(numeroPokemon2, Pokedex)\n",
    "    modelo_prediccion = joblib.load('modelo/modelo_pokemon.mod')\n",
    "    prediccion_Pokemon_1 = modelo_prediccion.predict([[pokemon1[2],pokemon1[3],pokemon1[4],pokemon1[5],pokemon1[6],pokemon1[7],pokemon1[8]]])\n",
    "    prediccion_Pokemon_2 = modelo_prediccion.predict([[pokemon2[2], pokemon2[3], pokemon2[4], pokemon2[5], pokemon2[6], pokemon2[7], pokemon2[8]]])\n",
    "    print (\"COMBATE QUE ENFRENTA: (\" + str(numeroPokemon1)+ \") \" + pokemon1[1] + \" a (\" + str(numeroPokemon2) + \") \" + pokemon2[1])\n",
    "    print (\"   \" + pokemon1[1] + \": \" + str(prediccion_Pokemon_1[0]))\n",
    "    print(\"   \" + pokemon2[1] + \": \" + str(prediccion_Pokemon_2[0]))\n",
    "    print (\"\")\n",
    "    if prediccion_Pokemon_1 > prediccion_Pokemon_2:\n",
    "        print(pokemon1[1].upper()+\" ES EL GANADOR\")\n",
    "    else:\n",
    "        print(pokemon2[1].upper() + \" ES EL GANADOR\")"
   ]
  },
  {
   "cell_type": "code",
   "execution_count": 11,
   "metadata": {},
   "outputs": [
    {
     "output_type": "stream",
     "name": "stdout",
     "text": [
      "['268', 'Tyranitar', '100', '134', '110', '95', '100', '61', '2']\n********************************************************\nCOMBATE QUE ENFRENTA: (268) Tyranitar a (518) Electivire\n   Tyranitar: 0.44382190836846547\n   Electivire: 0.8040807067181198\n\nELECTIVIRE ES EL GANADOR\n"
     ]
    }
   ],
   "source": [
    "\n",
    "#Carga de Pokedex e inicio de un combate\n",
    "with open(\"datas/pokedex.csv\", newline='') as csvfile:\n",
    "    pokedex = csv.reader(csvfile) \n",
    "    next(pokedex)\n",
    "    prediccion(268,518,pokedex)"
   ]
  },
  {
   "cell_type": "code",
   "execution_count": null,
   "metadata": {},
   "outputs": [],
   "source": []
  }
 ]
}